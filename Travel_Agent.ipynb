{
  "nbformat": 4,
  "nbformat_minor": 0,
  "metadata": {
    "colab": {
      "provenance": [],
      "authorship_tag": "ABX9TyN4fZ1xrUF0WRhkM616+TGF",
      "include_colab_link": true
    },
    "kernelspec": {
      "name": "python3",
      "display_name": "Python 3"
    },
    "language_info": {
      "name": "python"
    }
  },
  "cells": [
    {
      "cell_type": "markdown",
      "metadata": {
        "id": "view-in-github",
        "colab_type": "text"
      },
      "source": [
        "<a href=\"https://colab.research.google.com/github/Rithanya918/Travel-Agent-/blob/main/Travel_Agent.ipynb\" target=\"_parent\"><img src=\"https://colab.research.google.com/assets/colab-badge.svg\" alt=\"Open In Colab\"/></a>"
      ]
    },
    {
      "cell_type": "code",
      "execution_count": null,
      "metadata": {
        "id": "ydranW3G15vV"
      },
      "outputs": [],
      "source": [
        "# Create the directory if it doesn't already exist\n",
        "!mkdir -p /content/data/knowledge_base/\n",
        "print(\"Folder /content/data/knowledge_base/ created successfully.\")"
      ]
    }
  ]
}